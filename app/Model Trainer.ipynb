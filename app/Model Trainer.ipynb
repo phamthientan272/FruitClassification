{
 "cells": [
  {
   "cell_type": "code",
   "execution_count": 3,
   "id": "70b980e9",
   "metadata": {},
   "outputs": [],
   "source": [
    "import tensorflow as tf\n",
    "from tensorflow.keras.preprocessing.image import ImageDataGenerator\n",
    "import mlflow\n",
    "from mlflow import log_metric, log_param\n",
    "from mlflow.tensorflow import autolog\n",
    "from tensorflow.keras.callbacks import EarlyStopping, ModelCheckpoint\n",
    "\n",
    "from tensorflow.keras import layers\n",
    "from tensorflow.keras.applications import VGG16\n",
    "from tensorflow.keras import regularizers"
   ]
  },
  {
   "cell_type": "code",
   "execution_count": 2,
   "id": "caa25144",
   "metadata": {},
   "outputs": [
    {
     "data": {
      "text/plain": [
       "<Experiment: artifact_location='./mlruns/2', creation_time=1677318003408, experiment_id='2', last_update_time=1677318003408, lifecycle_stage='active', name='fruit-classification', tags={}>"
      ]
     },
     "execution_count": 2,
     "metadata": {},
     "output_type": "execute_result"
    }
   ],
   "source": [
    "# Set the tracking URI for MLflow\n",
    "mlflow.set_tracking_uri('sqlite:///mlflow.db')\n",
    "mlflow.set_registry_uri('sqlite:///mlflow.db')\n",
    "mlflow.set_experiment('fruit-classification')"
   ]
  },
  {
   "cell_type": "code",
   "execution_count": 4,
   "id": "8e7100c8",
   "metadata": {},
   "outputs": [],
   "source": [
    "# define hyperparameters\n",
    "batch_size = 32\n",
    "epochs = 10\n",
    "learning_rate = 0.001\n",
    "img_height = 256\n",
    "img_width = 256\n"
   ]
  },
  {
   "cell_type": "code",
   "execution_count": 5,
   "id": "a91bc1e0",
   "metadata": {},
   "outputs": [],
   "source": [
    "# set up image data generator with preprocessing and augmentation\n",
    "train_datagen = ImageDataGenerator(\n",
    "    rescale=1./255,\n",
    "    shear_range=0.2,\n",
    "    zoom_range=0.2,\n",
    "    horizontal_flip=True,\n",
    "    vertical_flip=True,\n",
    "    validation_split=0.2\n",
    ")\n",
    "\n",
    "test_datagen = ImageDataGenerator(rescale=1./255)\n"
   ]
  },
  {
   "cell_type": "code",
   "execution_count": 6,
   "id": "179b95f3",
   "metadata": {},
   "outputs": [
    {
     "name": "stdout",
     "output_type": "stream",
     "text": [
      "Found 4686 images belonging to 12 classes.\n",
      "Found 1167 images belonging to 12 classes.\n",
      "Found 1968 images belonging to 12 classes.\n"
     ]
    }
   ],
   "source": [
    "# set up train and validation data generators\n",
    "train_data_dir = '../FruitData/SyntheticData/Training_Data'\n",
    "test_data_dir = '../FruitData/SyntheticData/Test_Data'\n",
    "\n",
    "train_generator = train_datagen.flow_from_directory(\n",
    "    train_data_dir,\n",
    "    target_size=(img_height, img_width),\n",
    "    batch_size=batch_size,\n",
    "    class_mode='categorical',\n",
    "    subset='training'\n",
    ")\n",
    "\n",
    "validation_generator = train_datagen.flow_from_directory(\n",
    "    train_data_dir,\n",
    "    target_size=(img_height, img_width),\n",
    "    batch_size=batch_size,\n",
    "    class_mode='categorical',\n",
    "    subset='validation'\n",
    ")\n",
    "\n",
    "test_generator = test_datagen.flow_from_directory(\n",
    "    test_data_dir,\n",
    "    target_size=(img_height, img_width),\n",
    "    batch_size=batch_size,\n",
    "    class_mode='categorical'\n",
    ")"
   ]
  },
  {
   "cell_type": "code",
   "execution_count": 6,
   "id": "1abce0c7",
   "metadata": {},
   "outputs": [],
   "source": [
    "# Define CNN model with L2 regularization\n",
    "# Define CNN model\n",
    "def create_model(input_shape, num_classes):\n",
    "    model = tf.keras.models.Sequential([\n",
    "        layers.Conv2D(32, (3,3), activation='relu', input_shape=input_shape),\n",
    "        layers.MaxPooling2D((2,2)),\n",
    "        layers.Dropout(0,2),\n",
    "        layers.Conv2D(64, (3,3), activation='relu'),\n",
    "        layers.MaxPooling2D((2,2)),\n",
    "        layers.Dropout(0,2),\n",
    "        layers.Conv2D(128, (3,3), activation='relu'),\n",
    "        layers.MaxPooling2D((2,2)),\n",
    "        layers.Dropout(0,2),\n",
    "        layers.Conv2D(256, (3,3), activation='relu'),\n",
    "        layers.MaxPooling2D((2,2)),\n",
    "        layers.Dropout(0,2),\n",
    "        layers.Flatten(),\n",
    "        layers.Dense(512, activation='relu'),\n",
    "        layers.Dense(num_classes, activation='softmax')\n",
    "    ])\n",
    "    return model\n",
    "\n",
    "\n"
   ]
  },
  {
   "cell_type": "code",
   "execution_count": 7,
   "id": "7d08464a",
   "metadata": {},
   "outputs": [],
   "source": [
    "# Create and compile model\n",
    "input_shape = (img_height, img_width, 3)\n",
    "num_classes = 12\n",
    "\n",
    "model = create_model(input_shape, num_classes)\n",
    "\n",
    "optimizer = tf.keras.optimizers.Adam()\n",
    "loss = 'categorical_crossentropy'\n",
    "metrics = ['accuracy']\n",
    "model.compile(optimizer=optimizer, loss=loss, metrics=metrics)"
   ]
  },
  {
   "cell_type": "code",
   "execution_count": 8,
   "id": "51fc7a53",
   "metadata": {},
   "outputs": [
    {
     "name": "stdout",
     "output_type": "stream",
     "text": [
      "147/147 [==============================] - ETA: 0s - loss: 0.6257 - accuracy: 0.7565\n",
      "Epoch 1: val_loss improved from inf to 0.04509, saving model to best_model.h5\n",
      "147/147 [==============================] - 208s 1s/step - loss: 0.6257 - accuracy: 0.7565 - val_loss: 0.0451 - val_accuracy: 0.9878\n"
     ]
    },
    {
     "name": "stderr",
     "output_type": "stream",
     "text": [
      "2023/02/25 18:30:59 WARNING mlflow.tensorflow: You are saving a TensorFlow Core model or Keras model without a signature. Inference with mlflow.pyfunc.spark_udf() will not work unless the model's pyfunc representation accepts pandas DataFrames as inference inputs.\n",
      "WARNING:absl:Found untraced functions such as _jit_compiled_convolution_op, _jit_compiled_convolution_op, _jit_compiled_convolution_op, _jit_compiled_convolution_op, _update_step_xla while saving (showing 5 of 5). These functions will not be directly callable after loading.\n"
     ]
    },
    {
     "name": "stdout",
     "output_type": "stream",
     "text": [
      "INFO:tensorflow:Assets written to: C:\\Users\\phamt\\AppData\\Local\\Temp\\tmp11wjvip3\\model\\data\\model\\assets\n"
     ]
    },
    {
     "name": "stderr",
     "output_type": "stream",
     "text": [
      "INFO:tensorflow:Assets written to: C:\\Users\\phamt\\AppData\\Local\\Temp\\tmp11wjvip3\\model\\data\\model\\assets\n"
     ]
    },
    {
     "name": "stdout",
     "output_type": "stream",
     "text": [
      "147/147 [==============================] - ETA: 0s - loss: 0.0266 - accuracy: 0.9904\n",
      "Epoch 1: val_loss did not improve from 0.04509\n",
      "147/147 [==============================] - 203s 1s/step - loss: 0.0266 - accuracy: 0.9904 - val_loss: 0.0692 - val_accuracy: 0.9675\n"
     ]
    },
    {
     "name": "stderr",
     "output_type": "stream",
     "text": [
      "2023/02/25 18:34:33 WARNING mlflow.tensorflow: You are saving a TensorFlow Core model or Keras model without a signature. Inference with mlflow.pyfunc.spark_udf() will not work unless the model's pyfunc representation accepts pandas DataFrames as inference inputs.\n",
      "WARNING:absl:Found untraced functions such as _jit_compiled_convolution_op, _jit_compiled_convolution_op, _jit_compiled_convolution_op, _jit_compiled_convolution_op, _update_step_xla while saving (showing 5 of 5). These functions will not be directly callable after loading.\n"
     ]
    },
    {
     "name": "stdout",
     "output_type": "stream",
     "text": [
      "INFO:tensorflow:Assets written to: C:\\Users\\phamt\\AppData\\Local\\Temp\\tmpcyor93ca\\model\\data\\model\\assets\n"
     ]
    },
    {
     "name": "stderr",
     "output_type": "stream",
     "text": [
      "INFO:tensorflow:Assets written to: C:\\Users\\phamt\\AppData\\Local\\Temp\\tmpcyor93ca\\model\\data\\model\\assets\n"
     ]
    },
    {
     "name": "stdout",
     "output_type": "stream",
     "text": [
      "147/147 [==============================] - ETA: 0s - loss: 0.1490 - accuracy: 0.9571\n",
      "Epoch 1: val_loss did not improve from 0.04509\n",
      "147/147 [==============================] - 211s 1s/step - loss: 0.1490 - accuracy: 0.9571 - val_loss: 0.4932 - val_accuracy: 0.8780\n"
     ]
    },
    {
     "name": "stderr",
     "output_type": "stream",
     "text": [
      "2023/02/25 18:38:14 WARNING mlflow.tensorflow: You are saving a TensorFlow Core model or Keras model without a signature. Inference with mlflow.pyfunc.spark_udf() will not work unless the model's pyfunc representation accepts pandas DataFrames as inference inputs.\n",
      "WARNING:absl:Found untraced functions such as _jit_compiled_convolution_op, _jit_compiled_convolution_op, _jit_compiled_convolution_op, _jit_compiled_convolution_op, _update_step_xla while saving (showing 5 of 5). These functions will not be directly callable after loading.\n"
     ]
    },
    {
     "name": "stdout",
     "output_type": "stream",
     "text": [
      "INFO:tensorflow:Assets written to: C:\\Users\\phamt\\AppData\\Local\\Temp\\tmpb91snov4\\model\\data\\model\\assets\n"
     ]
    },
    {
     "name": "stderr",
     "output_type": "stream",
     "text": [
      "INFO:tensorflow:Assets written to: C:\\Users\\phamt\\AppData\\Local\\Temp\\tmpb91snov4\\model\\data\\model\\assets\n"
     ]
    },
    {
     "name": "stdout",
     "output_type": "stream",
     "text": [
      "147/147 [==============================] - ETA: 0s - loss: 0.0205 - accuracy: 0.9938\n",
      "Epoch 1: val_loss did not improve from 0.04509\n",
      "147/147 [==============================] - 202s 1s/step - loss: 0.0205 - accuracy: 0.9938 - val_loss: 0.0766 - val_accuracy: 0.9822\n"
     ]
    },
    {
     "name": "stderr",
     "output_type": "stream",
     "text": [
      "2023/02/25 18:41:45 WARNING mlflow.tensorflow: You are saving a TensorFlow Core model or Keras model without a signature. Inference with mlflow.pyfunc.spark_udf() will not work unless the model's pyfunc representation accepts pandas DataFrames as inference inputs.\n",
      "WARNING:absl:Found untraced functions such as _jit_compiled_convolution_op, _jit_compiled_convolution_op, _jit_compiled_convolution_op, _jit_compiled_convolution_op, _update_step_xla while saving (showing 5 of 5). These functions will not be directly callable after loading.\n"
     ]
    },
    {
     "name": "stdout",
     "output_type": "stream",
     "text": [
      "INFO:tensorflow:Assets written to: C:\\Users\\phamt\\AppData\\Local\\Temp\\tmphuu18jwh\\model\\data\\model\\assets\n"
     ]
    },
    {
     "name": "stderr",
     "output_type": "stream",
     "text": [
      "INFO:tensorflow:Assets written to: C:\\Users\\phamt\\AppData\\Local\\Temp\\tmphuu18jwh\\model\\data\\model\\assets\n"
     ]
    },
    {
     "name": "stdout",
     "output_type": "stream",
     "text": [
      "147/147 [==============================] - ETA: 0s - loss: 0.0151 - accuracy: 0.9951\n",
      "Epoch 1: val_loss did not improve from 0.04509\n",
      "147/147 [==============================] - 194s 1s/step - loss: 0.0151 - accuracy: 0.9951 - val_loss: 0.0517 - val_accuracy: 0.9888\n"
     ]
    },
    {
     "name": "stderr",
     "output_type": "stream",
     "text": [
      "2023/02/25 18:45:08 WARNING mlflow.tensorflow: You are saving a TensorFlow Core model or Keras model without a signature. Inference with mlflow.pyfunc.spark_udf() will not work unless the model's pyfunc representation accepts pandas DataFrames as inference inputs.\n",
      "WARNING:absl:Found untraced functions such as _jit_compiled_convolution_op, _jit_compiled_convolution_op, _jit_compiled_convolution_op, _jit_compiled_convolution_op, _update_step_xla while saving (showing 5 of 5). These functions will not be directly callable after loading.\n"
     ]
    },
    {
     "name": "stdout",
     "output_type": "stream",
     "text": [
      "INFO:tensorflow:Assets written to: C:\\Users\\phamt\\AppData\\Local\\Temp\\tmpn0xxa63o\\model\\data\\model\\assets\n"
     ]
    },
    {
     "name": "stderr",
     "output_type": "stream",
     "text": [
      "INFO:tensorflow:Assets written to: C:\\Users\\phamt\\AppData\\Local\\Temp\\tmpn0xxa63o\\model\\data\\model\\assets\n"
     ]
    },
    {
     "name": "stdout",
     "output_type": "stream",
     "text": [
      "147/147 [==============================] - ETA: 0s - loss: 0.0465 - accuracy: 0.9872\n",
      "Epoch 1: val_loss did not improve from 0.04509\n",
      "147/147 [==============================] - 203s 1s/step - loss: 0.0465 - accuracy: 0.9872 - val_loss: 0.0573 - val_accuracy: 0.9756\n"
     ]
    },
    {
     "name": "stderr",
     "output_type": "stream",
     "text": [
      "2023/02/25 18:48:40 WARNING mlflow.tensorflow: You are saving a TensorFlow Core model or Keras model without a signature. Inference with mlflow.pyfunc.spark_udf() will not work unless the model's pyfunc representation accepts pandas DataFrames as inference inputs.\n",
      "WARNING:absl:Found untraced functions such as _jit_compiled_convolution_op, _jit_compiled_convolution_op, _jit_compiled_convolution_op, _jit_compiled_convolution_op, _update_step_xla while saving (showing 5 of 5). These functions will not be directly callable after loading.\n"
     ]
    },
    {
     "name": "stdout",
     "output_type": "stream",
     "text": [
      "INFO:tensorflow:Assets written to: C:\\Users\\phamt\\AppData\\Local\\Temp\\tmpu2d_nwtj\\model\\data\\model\\assets\n"
     ]
    },
    {
     "name": "stderr",
     "output_type": "stream",
     "text": [
      "INFO:tensorflow:Assets written to: C:\\Users\\phamt\\AppData\\Local\\Temp\\tmpu2d_nwtj\\model\\data\\model\\assets\n"
     ]
    },
    {
     "name": "stdout",
     "output_type": "stream",
     "text": [
      "147/147 [==============================] - ETA: 0s - loss: 0.0043 - accuracy: 0.9991\n",
      "Epoch 1: val_loss improved from 0.04509 to 0.01763, saving model to best_model.h5\n",
      "147/147 [==============================] - 201s 1s/step - loss: 0.0043 - accuracy: 0.9991 - val_loss: 0.0176 - val_accuracy: 0.9893\n"
     ]
    },
    {
     "name": "stderr",
     "output_type": "stream",
     "text": [
      "2023/02/25 18:52:10 WARNING mlflow.tensorflow: You are saving a TensorFlow Core model or Keras model without a signature. Inference with mlflow.pyfunc.spark_udf() will not work unless the model's pyfunc representation accepts pandas DataFrames as inference inputs.\n",
      "WARNING:absl:Found untraced functions such as _jit_compiled_convolution_op, _jit_compiled_convolution_op, _jit_compiled_convolution_op, _jit_compiled_convolution_op, _update_step_xla while saving (showing 5 of 5). These functions will not be directly callable after loading.\n"
     ]
    },
    {
     "name": "stdout",
     "output_type": "stream",
     "text": [
      "INFO:tensorflow:Assets written to: C:\\Users\\phamt\\AppData\\Local\\Temp\\tmpej4o4eue\\model\\data\\model\\assets\n"
     ]
    },
    {
     "name": "stderr",
     "output_type": "stream",
     "text": [
      "INFO:tensorflow:Assets written to: C:\\Users\\phamt\\AppData\\Local\\Temp\\tmpej4o4eue\\model\\data\\model\\assets\n"
     ]
    },
    {
     "name": "stdout",
     "output_type": "stream",
     "text": [
      "147/147 [==============================] - ETA: 0s - loss: 4.0445e-04 - accuracy: 0.9998\n",
      "Epoch 1: val_loss did not improve from 0.01763\n",
      "147/147 [==============================] - 224s 2s/step - loss: 4.0445e-04 - accuracy: 0.9998 - val_loss: 0.1328 - val_accuracy: 0.9680\n"
     ]
    },
    {
     "name": "stderr",
     "output_type": "stream",
     "text": [
      "2023/02/25 18:56:05 WARNING mlflow.tensorflow: You are saving a TensorFlow Core model or Keras model without a signature. Inference with mlflow.pyfunc.spark_udf() will not work unless the model's pyfunc representation accepts pandas DataFrames as inference inputs.\n",
      "WARNING:absl:Found untraced functions such as _jit_compiled_convolution_op, _jit_compiled_convolution_op, _jit_compiled_convolution_op, _jit_compiled_convolution_op, _update_step_xla while saving (showing 5 of 5). These functions will not be directly callable after loading.\n"
     ]
    },
    {
     "name": "stdout",
     "output_type": "stream",
     "text": [
      "INFO:tensorflow:Assets written to: C:\\Users\\phamt\\AppData\\Local\\Temp\\tmpzwu3uylb\\model\\data\\model\\assets\n"
     ]
    },
    {
     "name": "stderr",
     "output_type": "stream",
     "text": [
      "INFO:tensorflow:Assets written to: C:\\Users\\phamt\\AppData\\Local\\Temp\\tmpzwu3uylb\\model\\data\\model\\assets\n"
     ]
    },
    {
     "name": "stdout",
     "output_type": "stream",
     "text": [
      "147/147 [==============================] - ETA: 0s - loss: 0.0266 - accuracy: 0.9934\n",
      "Epoch 1: val_loss did not improve from 0.01763\n",
      "147/147 [==============================] - 211s 1s/step - loss: 0.0266 - accuracy: 0.9934 - val_loss: 0.0472 - val_accuracy: 0.9787\n"
     ]
    },
    {
     "name": "stderr",
     "output_type": "stream",
     "text": [
      "2023/02/25 18:59:48 WARNING mlflow.tensorflow: You are saving a TensorFlow Core model or Keras model without a signature. Inference with mlflow.pyfunc.spark_udf() will not work unless the model's pyfunc representation accepts pandas DataFrames as inference inputs.\n",
      "WARNING:absl:Found untraced functions such as _jit_compiled_convolution_op, _jit_compiled_convolution_op, _jit_compiled_convolution_op, _jit_compiled_convolution_op, _update_step_xla while saving (showing 5 of 5). These functions will not be directly callable after loading.\n"
     ]
    },
    {
     "name": "stdout",
     "output_type": "stream",
     "text": [
      "INFO:tensorflow:Assets written to: C:\\Users\\phamt\\AppData\\Local\\Temp\\tmprr04sdmu\\model\\data\\model\\assets\n"
     ]
    },
    {
     "name": "stderr",
     "output_type": "stream",
     "text": [
      "INFO:tensorflow:Assets written to: C:\\Users\\phamt\\AppData\\Local\\Temp\\tmprr04sdmu\\model\\data\\model\\assets\n"
     ]
    },
    {
     "name": "stdout",
     "output_type": "stream",
     "text": [
      "147/147 [==============================] - ETA: 0s - loss: 0.1059 - accuracy: 0.9731\n",
      "Epoch 1: val_loss did not improve from 0.01763\n",
      "147/147 [==============================] - 208s 1s/step - loss: 0.1059 - accuracy: 0.9731 - val_loss: 0.1504 - val_accuracy: 0.9487\n"
     ]
    },
    {
     "name": "stderr",
     "output_type": "stream",
     "text": [
      "2023/02/25 19:03:27 WARNING mlflow.tensorflow: You are saving a TensorFlow Core model or Keras model without a signature. Inference with mlflow.pyfunc.spark_udf() will not work unless the model's pyfunc representation accepts pandas DataFrames as inference inputs.\n",
      "WARNING:absl:Found untraced functions such as _jit_compiled_convolution_op, _jit_compiled_convolution_op, _jit_compiled_convolution_op, _jit_compiled_convolution_op, _update_step_xla while saving (showing 5 of 5). These functions will not be directly callable after loading.\n"
     ]
    },
    {
     "name": "stdout",
     "output_type": "stream",
     "text": [
      "INFO:tensorflow:Assets written to: C:\\Users\\phamt\\AppData\\Local\\Temp\\tmp8s4xxbsc\\model\\data\\model\\assets\n"
     ]
    },
    {
     "name": "stderr",
     "output_type": "stream",
     "text": [
      "INFO:tensorflow:Assets written to: C:\\Users\\phamt\\AppData\\Local\\Temp\\tmp8s4xxbsc\\model\\data\\model\\assets\n"
     ]
    }
   ],
   "source": [
    "# Log hyperparameters with MLflow\n",
    "checkpoint_callback = ModelCheckpoint(filepath=\"best_model.h5\",\n",
    "                                       monitor=\"val_loss\",\n",
    "                                       save_best_only=True,\n",
    "                                       save_weights_only=False,\n",
    "                                       mode=\"min\",\n",
    "                                       verbose=1)\n",
    "\n",
    "early_stop = EarlyStopping(monitor='val_loss', patience=5)\n",
    "   \n",
    "training_loss = []\n",
    "validation_loss = []\n",
    "training_accuracy = []\n",
    "validation_accuracy = []\n",
    "\n",
    "# Train the model and log the accuracy and loss for each epoch\n",
    "for epoch in range(epochs):\n",
    "    with mlflow.start_run():\n",
    "        \n",
    "        history = model.fit(train_generator, epochs=1, validation_data=test_generator, callbacks=[early_stop, checkpoint_callback])\n",
    "        \n",
    "        # Log the metrics for the current epoch\n",
    "        training_loss.append(history.history['loss'][0])\n",
    "        validation_loss.append(history.history['val_loss'][0])\n",
    "        training_accuracy.append(history.history['accuracy'][0])\n",
    "        validation_accuracy.append(history.history['val_accuracy'][0])\n",
    "        \n",
    "        mlflow.log_metric(\"train_loss\", history.history['loss'][0], step=epoch)\n",
    "        mlflow.log_metric(\"train_accuracy\", history.history['accuracy'][0], step=epoch)\n",
    "        mlflow.log_metric(\"val_loss\", history.history['val_loss'][0], step=epoch)\n",
    "        mlflow.log_metric(\"val_accuracy\", history.history['val_accuracy'][0], step=epoch)\n",
    "        \n",
    "        #Log param\n",
    "        mlflow.log_param('optimizer', optimizer.__class__.__name__)\n",
    "        mlflow.log_param('learning_rate', optimizer.learning_rate.numpy())\n",
    "        mlflow.log_param('batch_size', batch_size)\n",
    "        # Log the TensorFlow model\n",
    "        mlflow.tensorflow.log_model(model, \"model\")\n",
    "\n"
   ]
  },
  {
   "cell_type": "code",
   "execution_count": 9,
   "id": "5c969038",
   "metadata": {},
   "outputs": [
    {
     "data": {
      "text/plain": [
       "<matplotlib.legend.Legend at 0x2389b310ca0>"
      ]
     },
     "execution_count": 9,
     "metadata": {},
     "output_type": "execute_result"
    },
    {
     "data": {
      "image/png": "[encoded data removed]",
      "text/plain": [
       "<Figure size 640x480 with 1 Axes>"
      ]
     },
     "metadata": {},
     "output_type": "display_data"
    }
   ],
   "source": [
    "import matplotlib.pyplot as plt\n",
    "plt.plot(training_loss, label='train_loss')\n",
    "plt.plot(validation_loss, label='val_loss')\n",
    "plt.title('Training and Validation Loss')\n",
    "plt.xlabel('Epoch')\n",
    "plt.ylabel('Loss')\n",
    "plt.legend()\n"
   ]
  },
  {
   "cell_type": "code",
   "execution_count": 10,
   "id": "350176a6",
   "metadata": {},
   "outputs": [
    {
     "data": {
      "text/plain": [
       "<matplotlib.legend.Legend at 0x2389b36efa0>"
      ]
     },
     "execution_count": 10,
     "metadata": {},
     "output_type": "execute_result"
    },
    {
     "data": {
      "image/png": "[encoded data removed]",
      "text/plain": [
       "<Figure size 640x480 with 1 Axes>"
      ]
     },
     "metadata": {},
     "output_type": "display_data"
    }
   ],
   "source": [
    "plt.plot(training_accuracy, label='train_accuracy')\n",
    "plt.plot(validation_accuracy, label='val_accuracy')\n",
    "plt.title('Training and Validation Acccuract')\n",
    "plt.xlabel('Epoch')\n",
    "plt.ylabel('Loss')\n",
    "plt.legend()"
   ]
  },
  {
   "cell_type": "markdown",
   "id": "a12c63c0",
   "metadata": {},
   "source": [
    "#### Evaluation on thes dataset "
   ]
  },
  {
   "cell_type": "code",
   "execution_count": 9,
   "id": "d2fe4d96",
   "metadata": {},
   "outputs": [
    {
     "name": "stdout",
     "output_type": "stream",
     "text": [
      "62/62 [==============================] - 15s 244ms/step - loss: 0.0176 - accuracy: 0.9893\n"
     ]
    },
    {
     "data": {
      "text/plain": [
       "[0.017634686082601547, 0.9893292784690857]"
      ]
     },
     "execution_count": 9,
     "metadata": {},
     "output_type": "execute_result"
    }
   ],
   "source": [
    "from sklearn.metrics import f1_score, precision_score, recall_score, accuracy_score\n",
    "model = tf.keras.models.load_model(\"best_model.h5\")\n",
    "\n",
    "model.evaluate(test_generator)"
   ]
  },
  {
   "cell_type": "code",
   "execution_count": null,
   "id": "76af9edf",
   "metadata": {},
   "outputs": [],
   "source": []
  },
  {
   "cell_type": "code",
   "execution_count": null,
   "id": "0588cdb5",
   "metadata": {},
   "outputs": [],
   "source": []
  },
  {
   "cell_type": "code",
   "execution_count": null,
   "id": "67f7b19a",
   "metadata": {},
   "outputs": [],
   "source": []
  }
 ],
 "metadata": {
  "kernelspec": {
   "display_name": "Python 3 (ipykernel)",
   "language": "python",
   "name": "python3"
  },
  "language_info": {
   "codemirror_mode": {
    "name": "ipython",
    "version": 3
   },
   "file_extension": ".py",
   "mimetype": "text/x-python",
   "name": "python",
   "nbconvert_exporter": "python",
   "pygments_lexer": "ipython3",
   "version": "3.8.13"
  }
 },
 "nbformat": 4,
 "nbformat_minor": 5
}
